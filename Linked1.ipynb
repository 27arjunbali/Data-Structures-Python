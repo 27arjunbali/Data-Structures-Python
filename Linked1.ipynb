{
 "cells": [
  {
   "cell_type": "code",
   "execution_count": 1,
   "metadata": {},
   "outputs": [],
   "source": [
    "import random\n",
    "import math"
   ]
  },
  {
   "cell_type": "code",
   "execution_count": 2,
   "metadata": {},
   "outputs": [],
   "source": [
    "class LinkList:\n",
    "    def __init__(self):\n",
    "        self.prime=None\n",
    "        self.ptr=None"
   ]
  },
  {
   "cell_type": "code",
   "execution_count": 3,
   "metadata": {},
   "outputs": [
    {
     "name": "stdout",
     "output_type": "stream",
     "text": [
      "[604, 135, 696, 835, 183, 378, 98, 33, 681, 122, 847, 494, 623, 642, 200, 944, 753, 381, 242, 920, 565, 61, 266, 329, 542, 923, 495, 671, 293, 569, 22, 533, 71, 302, 753, 52, 444, 540, 422, 440, 520, 408, 747, 515, 865, 229, 546, 836, 423, 969, 579, 93, 832, 762, 162, 582, 201, 93, 878, 540, 902, 514, 320, 234, 281, 370, 302, 133, 184, 574, 744, 590, 641, 682, 520, 404, 454, 843, 27, 670, 174, 13, 463, 880, 971, 825, 411, 292, 324, 339, 405, 745, 306, 586, 2, 33, 878, 557, 327, 7]\n"
     ]
    }
   ],
   "source": [
    "p=[]\n",
    "for i in range(0,100):\n",
    "    p.append(random.randint(2,1000))\n",
    "print(p)"
   ]
  },
  {
   "cell_type": "code",
   "execution_count": 4,
   "metadata": {},
   "outputs": [],
   "source": [
    "list1=[]\n",
    "old=LinkList()\n",
    "first=LinkList()\n",
    "for i in range(0,100):\n",
    "    for j in range(2,p[i]):\n",
    "        if p[i]%j==0:\n",
    "            break\n",
    "    if j==(p[i]-1):\n",
    "        coach=LinkList()\n",
    "        if old.prime==None and old.ptr==None:\n",
    "            coach.prime=p[i]\n",
    "            coach.ptr=None\n",
    "            old=coach\n",
    "            first=coach\n",
    "        else:\n",
    "            coach.prime=p[i]\n",
    "            coach.ptr=None\n",
    "            old.ptr=coach\n",
    "            list1.append(coach.prime)\n",
    "            old=coach"
   ]
  },
  {
   "cell_type": "code",
   "execution_count": 5,
   "metadata": {},
   "outputs": [
    {
     "data": {
      "text/plain": [
       "61"
      ]
     },
     "execution_count": 5,
     "metadata": {},
     "output_type": "execute_result"
    }
   ],
   "source": [
    "first.prime"
   ]
  },
  {
   "cell_type": "code",
   "execution_count": 6,
   "metadata": {},
   "outputs": [
    {
     "data": {
      "text/plain": [
       "7"
      ]
     },
     "execution_count": 6,
     "metadata": {},
     "output_type": "execute_result"
    }
   ],
   "source": [
    "old.prime"
   ]
  },
  {
   "cell_type": "code",
   "execution_count": 7,
   "metadata": {},
   "outputs": [
    {
     "data": {
      "text/plain": [
       "7"
      ]
     },
     "execution_count": 7,
     "metadata": {},
     "output_type": "execute_result"
    }
   ],
   "source": [
    "coach.prime"
   ]
  },
  {
   "cell_type": "code",
   "execution_count": 8,
   "metadata": {},
   "outputs": [
    {
     "data": {
      "text/plain": [
       "[293, 569, 71, 229, 281, 641, 13, 463, 971, 557, 7]"
      ]
     },
     "execution_count": 8,
     "metadata": {},
     "output_type": "execute_result"
    }
   ],
   "source": [
    "list1"
   ]
  },
  {
   "cell_type": "code",
   "execution_count": 9,
   "metadata": {},
   "outputs": [],
   "source": [
    "first.ptr=list1[0]"
   ]
  },
  {
   "cell_type": "code",
   "execution_count": 10,
   "metadata": {},
   "outputs": [
    {
     "data": {
      "text/plain": [
       "61"
      ]
     },
     "execution_count": 10,
     "metadata": {},
     "output_type": "execute_result"
    }
   ],
   "source": [
    "first.prime"
   ]
  },
  {
   "cell_type": "code",
   "execution_count": 11,
   "metadata": {},
   "outputs": [
    {
     "data": {
      "text/plain": [
       "293"
      ]
     },
     "execution_count": 11,
     "metadata": {},
     "output_type": "execute_result"
    }
   ],
   "source": [
    "first.ptr"
   ]
  },
  {
   "cell_type": "code",
   "execution_count": 12,
   "metadata": {},
   "outputs": [],
   "source": [
    "list1.insert(0,first.prime)"
   ]
  },
  {
   "cell_type": "code",
   "execution_count": 13,
   "metadata": {},
   "outputs": [
    {
     "name": "stdout",
     "output_type": "stream",
     "text": [
      "[61, 293, 569, 71, 229, 281, 641, 13, 463, 971, 557, 7]\n"
     ]
    }
   ],
   "source": [
    "print(list1)"
   ]
  },
  {
   "cell_type": "code",
   "execution_count": 14,
   "metadata": {},
   "outputs": [
    {
     "name": "stdout",
     "output_type": "stream",
     "text": [
      "[55, 61, 293, 569, 71, 229, 281, 641, 13, 463, 971, 557, 7]\n"
     ]
    }
   ],
   "source": [
    "#insertion at the front\n",
    "l1=55\n",
    "list1.insert(0,l1)\n",
    "print(list1)"
   ]
  },
  {
   "cell_type": "code",
   "execution_count": 15,
   "metadata": {},
   "outputs": [
    {
     "name": "stdout",
     "output_type": "stream",
     "text": [
      "[61, 293, 569, 71, 229, 281, 641, 13, 463, 971, 557, 7]\n"
     ]
    }
   ],
   "source": [
    "#deletion from front\n",
    "list1.pop(0)\n",
    "print(list1)"
   ]
  },
  {
   "cell_type": "code",
   "execution_count": 209,
   "metadata": {},
   "outputs": [
    {
     "name": "stdout",
     "output_type": "stream",
     "text": [
      "[53, 881, 967, 491, 127, 113, 167, 601, 229, 5, 997, 263, 563, 887, 431, 179, 263, 653]\n"
     ]
    }
   ],
   "source": [
    "#insertion in the middle\n",
    "len(list1)\n",
    "h=len(list1)/2\n",
    "w=math.ceil(h)\n",
    "list1.insert(w,5)\n",
    "print(list1)"
   ]
  },
  {
   "cell_type": "code",
   "execution_count": 210,
   "metadata": {},
   "outputs": [
    {
     "name": "stdout",
     "output_type": "stream",
     "text": [
      "[53, 881, 967, 491, 127, 113, 167, 601, 229, 997, 263, 563, 887, 431, 179, 263, 653]\n"
     ]
    }
   ],
   "source": [
    "#deletion in the middle\n",
    "list1.pop(w)\n",
    "print(list1)"
   ]
  },
  {
   "cell_type": "code",
   "execution_count": 211,
   "metadata": {},
   "outputs": [
    {
     "name": "stdout",
     "output_type": "stream",
     "text": [
      "[53, 881, 967, 491, 127, 113, 167, 601, 229, 997, 263, 563, 887, 431, 179, 263, 653, 5]\n"
     ]
    }
   ],
   "source": [
    "#insertion at the end\n",
    "len(list1)\n",
    "list1.insert(len(list1),5)\n",
    "print(list1)"
   ]
  },
  {
   "cell_type": "code",
   "execution_count": 212,
   "metadata": {},
   "outputs": [
    {
     "name": "stdout",
     "output_type": "stream",
     "text": [
      "[53, 881, 967, 491, 127, 113, 167, 601, 229, 997, 263, 563, 887, 431, 179, 263, 653]\n"
     ]
    }
   ],
   "source": [
    "#deletion at the end\n",
    "w=len(list1)-1\n",
    "list1.pop(w)\n",
    "print(list1)"
   ]
  },
  {
   "cell_type": "code",
   "execution_count": null,
   "metadata": {},
   "outputs": [],
   "source": []
  },
  {
   "cell_type": "code",
   "execution_count": null,
   "metadata": {},
   "outputs": [],
   "source": []
  },
  {
   "cell_type": "code",
   "execution_count": null,
   "metadata": {},
   "outputs": [],
   "source": []
  },
  {
   "cell_type": "code",
   "execution_count": null,
   "metadata": {},
   "outputs": [],
   "source": []
  },
  {
   "cell_type": "code",
   "execution_count": null,
   "metadata": {},
   "outputs": [],
   "source": []
  },
  {
   "cell_type": "code",
   "execution_count": null,
   "metadata": {},
   "outputs": [],
   "source": []
  },
  {
   "cell_type": "code",
   "execution_count": null,
   "metadata": {},
   "outputs": [],
   "source": []
  },
  {
   "cell_type": "code",
   "execution_count": null,
   "metadata": {},
   "outputs": [],
   "source": []
  },
  {
   "cell_type": "code",
   "execution_count": null,
   "metadata": {},
   "outputs": [],
   "source": []
  }
 ],
 "metadata": {
  "kernelspec": {
   "display_name": "Python 3",
   "language": "python",
   "name": "python3"
  },
  "language_info": {
   "codemirror_mode": {
    "name": "ipython",
    "version": 3
   },
   "file_extension": ".py",
   "mimetype": "text/x-python",
   "name": "python",
   "nbconvert_exporter": "python",
   "pygments_lexer": "ipython3",
   "version": "3.6.5"
  }
 },
 "nbformat": 4,
 "nbformat_minor": 2
}
