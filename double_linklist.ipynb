{
 "cells": [
  {
   "cell_type": "code",
   "execution_count": 51,
   "metadata": {},
   "outputs": [],
   "source": [
    "import random"
   ]
  },
  {
   "cell_type": "code",
   "execution_count": 52,
   "metadata": {},
   "outputs": [],
   "source": [
    "class double:\n",
    "    def __init__(self):\n",
    "        self.prime=None\n",
    "        self.back=None\n",
    "        self.front=None"
   ]
  },
  {
   "cell_type": "code",
   "execution_count": 53,
   "metadata": {},
   "outputs": [
    {
     "name": "stdout",
     "output_type": "stream",
     "text": [
      "[535, 651, 691, 747, 519, 470, 213, 634, 203, 960, 960, 174, 954, 545, 553, 852, 699, 937, 589, 793, 551, 142, 588, 434, 131, 858, 494, 744, 684, 47, 657, 494, 115, 739, 26, 378, 801, 41, 788, 975, 258, 898, 604, 533, 591, 805, 723, 287, 11, 613, 614, 394, 439, 712, 701, 678, 200, 781, 99, 336, 561, 93, 988, 867, 925, 79, 164, 947, 760, 89, 774, 326, 573, 604, 769, 451, 133, 268, 366, 235, 762, 167, 951, 137, 970, 835, 550, 441, 510, 215, 993, 346, 858, 365, 257, 24, 2, 296, 37, 927]\n"
     ]
    }
   ],
   "source": [
    "p=[]\n",
    "for i in range(0,100):\n",
    "    p.append(random.randint(0,1001))\n",
    "print(p)"
   ]
  },
  {
   "cell_type": "code",
   "execution_count": 54,
   "metadata": {},
   "outputs": [],
   "source": [
    "old=double()\n",
    "first=double()\n",
    "back=double()\n",
    "l=[]\n",
    "l1=[]\n",
    "for i in range(0,len(p)):\n",
    "    for j in range(2,p[i]+1):\n",
    "        if p[i]%j==0:\n",
    "            break\n",
    "    if j==p[i]:\n",
    "        coach=double()\n",
    "        if old.prime == None and old.front == None and old.back == None:\n",
    "            coach.prime=p[i]\n",
    "            coach.front=None\n",
    "            coach.back=None\n",
    "            old=coach\n",
    "            first=coach\n",
    "        else:\n",
    "            coach.prime=p[i]\n",
    "            coach.front=None\n",
    "            coach.back=old\n",
    "            old.front=coach\n",
    "            l.append(coach.prime)\n",
    "            old=coach\n",
    "        back=coach"
   ]
  },
  {
   "cell_type": "code",
   "execution_count": 55,
   "metadata": {},
   "outputs": [
    {
     "name": "stdout",
     "output_type": "stream",
     "text": [
      "[937, 131, 47, 739, 41, 11, 613, 439, 701, 79, 947, 89, 769, 167, 137, 257, 2, 37]\n"
     ]
    }
   ],
   "source": [
    "print(l)"
   ]
  },
  {
   "cell_type": "code",
   "execution_count": 56,
   "metadata": {},
   "outputs": [],
   "source": [
    "l.insert(0,first.prime)"
   ]
  },
  {
   "cell_type": "code",
   "execution_count": 57,
   "metadata": {},
   "outputs": [
    {
     "name": "stdout",
     "output_type": "stream",
     "text": [
      "[691, 937, 131, 47, 739, 41, 11, 613, 439, 701, 79, 947, 89, 769, 167, 137, 257, 2, 37]\n"
     ]
    }
   ],
   "source": [
    "print(l)"
   ]
  },
  {
   "cell_type": "code",
   "execution_count": 58,
   "metadata": {},
   "outputs": [
    {
     "name": "stdout",
     "output_type": "stream",
     "text": [
      "691\n",
      "937\n",
      "131\n",
      "47\n",
      "739\n",
      "41\n",
      "11\n",
      "613\n",
      "439\n",
      "701\n",
      "79\n",
      "947\n",
      "89\n",
      "769\n",
      "167\n",
      "137\n",
      "257\n",
      "2\n",
      "37\n"
     ]
    }
   ],
   "source": [
    "while first.front!=None:\n",
    "    print(first.prime)\n",
    "    first=first.front\n",
    "print(first.prime)"
   ]
  },
  {
   "cell_type": "code",
   "execution_count": 59,
   "metadata": {},
   "outputs": [
    {
     "name": "stdout",
     "output_type": "stream",
     "text": [
      "37\n",
      "2\n",
      "257\n",
      "137\n",
      "167\n",
      "769\n",
      "89\n",
      "947\n",
      "79\n",
      "701\n",
      "439\n",
      "613\n",
      "11\n",
      "41\n",
      "739\n",
      "47\n",
      "131\n",
      "937\n",
      "691\n"
     ]
    }
   ],
   "source": [
    "while back.back!=None:\n",
    "    print(back.prime)\n",
    "    back=back.back\n",
    "print(back.prime)"
   ]
  },
  {
   "cell_type": "code",
   "execution_count": null,
   "metadata": {},
   "outputs": [],
   "source": []
  },
  {
   "cell_type": "code",
   "execution_count": null,
   "metadata": {},
   "outputs": [],
   "source": []
  }
 ],
 "metadata": {
  "kernelspec": {
   "display_name": "Python 3",
   "language": "python",
   "name": "python3"
  },
  "language_info": {
   "codemirror_mode": {
    "name": "ipython",
    "version": 3
   },
   "file_extension": ".py",
   "mimetype": "text/x-python",
   "name": "python",
   "nbconvert_exporter": "python",
   "pygments_lexer": "ipython3",
   "version": "3.6.5"
  }
 },
 "nbformat": 4,
 "nbformat_minor": 2
}
