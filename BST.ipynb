{
 "cells": [
  {
   "cell_type": "code",
   "execution_count": 1,
   "metadata": {},
   "outputs": [],
   "source": [
    "import numpy as np\n",
    "import random"
   ]
  },
  {
   "cell_type": "code",
   "execution_count": 2,
   "metadata": {},
   "outputs": [],
   "source": [
    "class TreeNode:\n",
    "    \n",
    "    def __init__(self):\n",
    "        \n",
    "        self.PrimeNumber = None\n",
    "        self.LeftNodeAddr = None\n",
    "        self.RightNodeAddr = None "
   ]
  },
  {
   "cell_type": "code",
   "execution_count": 3,
   "metadata": {},
   "outputs": [],
   "source": [
    "RandomNumbers = np.random.randint(512 , 1024 , size=100)"
   ]
  },
  {
   "cell_type": "code",
   "execution_count": 4,
   "metadata": {},
   "outputs": [
    {
     "name": "stdout",
     "output_type": "stream",
     "text": [
      "[1002, 756, 592, 877, 788, 689, 701, 966, 664, 1013, 805, 909, 683, 803, 688, 581, 841, 532, 683, 844, 944, 549, 654, 687, 759, 747, 520, 855, 965, 624, 689, 557, 632, 894, 604, 677, 783, 809, 954, 540, 933, 756, 520, 832, 602, 1002, 657, 578, 556, 561, 932, 741, 660, 904, 925, 914, 535, 715, 970, 955, 833, 819, 918, 689, 777, 914, 687, 752, 935, 622, 880, 806, 751, 819, 518, 609, 592, 531, 647, 623, 936, 985, 857, 583, 739, 884, 639, 598, 749, 537, 618, 579, 549, 677, 987, 689, 777, 639, 845, 927]\n"
     ]
    }
   ],
   "source": [
    "ListOfNums = list(RandomNumbers)\n",
    "print(ListOfNums)"
   ]
  },
  {
   "cell_type": "code",
   "execution_count": 5,
   "metadata": {},
   "outputs": [],
   "source": [
    "def InsertNode(RootNode, NewNode):\n",
    "    \n",
    "    if RootNode == None:\n",
    "        \n",
    "        RootNode = NewNode\n",
    "        \n",
    "        return RootNode\n",
    "    \n",
    "    elif RootNode.PrimeNumber >= NewNode.PrimeNumber:\n",
    "        \n",
    "        RootNode.LeftNodeAddr = InsertNode(RootNode.LeftNodeAddr, NewNode)\n",
    "    \n",
    "    else:\n",
    "        RootNode.RightNodeAddr = InsertNode(RootNode.RightNodeAddr, NewNode)\n",
    "        \n",
    "    return RootNode"
   ]
  },
  {
   "cell_type": "code",
   "execution_count": 6,
   "metadata": {},
   "outputs": [],
   "source": [
    "def BFSTraversal(RootNode):\n",
    "    \n",
    "    print(\"The bfs traversal of tree is\\n\")\n",
    "    \n",
    "    ListOfNodes = []\n",
    "    \n",
    "    ListOfNodes.append(RootNode)\n",
    "        \n",
    "    while len(ListOfNodes) != 0:\n",
    "            \n",
    "        print(ListOfNodes[0].PrimeNumber)\n",
    "            \n",
    "        if ListOfNodes[0].LeftNodeAddr != None:\n",
    "                \n",
    "            ListOfNodes.append(ListOfNodes[0].LeftNodeAddr)\n",
    "            \n",
    "        if ListOfNodes[0].RightNodeAddr != None:\n",
    "                \n",
    "            ListOfNodes.append(ListOfNodes[0].RightNodeAddr)\n",
    "                \n",
    "        ListOfNodes.pop(0)"
   ]
  },
  {
   "cell_type": "code",
   "execution_count": 7,
   "metadata": {},
   "outputs": [],
   "source": [
    "def PreOrderTraversal(RootNode):\n",
    "    \n",
    "    #print(\"The Pre Order Traversal is\")\n",
    "    \n",
    "    if RootNode == None:\n",
    "        \n",
    "        return \n",
    "    \n",
    "    print(RootNode.PrimeNumber)\n",
    "    \n",
    "    PreOrderTraversal(RootNode.LeftNodeAddr)\n",
    "    \n",
    "    PreOrderTraversal(RootNode.RightNodeAddr)"
   ]
  },
  {
   "cell_type": "code",
   "execution_count": 8,
   "metadata": {},
   "outputs": [
    {
     "name": "stdout",
     "output_type": "stream",
     "text": [
      "The bfs traversal of tree is\n",
      "\n",
      "877\n",
      "701\n",
      "1013\n",
      "683\n",
      "809\n",
      "683\n",
      "751\n",
      "857\n",
      "557\n",
      "739\n",
      "677\n",
      "647\n",
      "677\n"
     ]
    }
   ],
   "source": [
    "RootNode = None\n",
    "\n",
    "for i in ListOfNums:\n",
    "    \n",
    "    for j in range(2 , i):\n",
    "        \n",
    "        if i%j == 0:\n",
    "            \n",
    "            break\n",
    "        \n",
    "    if j == (i-1):\n",
    "            \n",
    "        NewNode = TreeNode()\n",
    "            \n",
    "        NewNode.PrimeNumber = i\n",
    "        NewNode.LeftNodeAddr = None\n",
    "        NewNode.RightNodeAddr = None\n",
    "            \n",
    "        RootNode = InsertNode(RootNode, NewNode)\n",
    "            \n",
    "BFSTraversal(RootNode)\n",
    "\n",
    "#PreOrderTraversal(RootNode)"
   ]
  },
  {
   "cell_type": "code",
   "execution_count": 9,
   "metadata": {},
   "outputs": [
    {
     "data": {
      "text/plain": [
       "877"
      ]
     },
     "execution_count": 9,
     "metadata": {},
     "output_type": "execute_result"
    }
   ],
   "source": [
    "RootNode.PrimeNumber"
   ]
  },
  {
   "cell_type": "code",
   "execution_count": 10,
   "metadata": {},
   "outputs": [
    {
     "data": {
      "text/plain": [
       "<__main__.TreeNode at 0x1db3a35d128>"
      ]
     },
     "execution_count": 10,
     "metadata": {},
     "output_type": "execute_result"
    }
   ],
   "source": [
    "RootNode.LeftNodeAddr"
   ]
  },
  {
   "cell_type": "code",
   "execution_count": 11,
   "metadata": {},
   "outputs": [
    {
     "ename": "NameError",
     "evalue": "name 'ListOfNodes' is not defined",
     "output_type": "error",
     "traceback": [
      "\u001b[1;31m---------------------------------------------------------------------------\u001b[0m",
      "\u001b[1;31mNameError\u001b[0m                                 Traceback (most recent call last)",
      "\u001b[1;32m<ipython-input-11-432ca0766e17>\u001b[0m in \u001b[0;36m<module>\u001b[1;34m()\u001b[0m\n\u001b[1;32m----> 1\u001b[1;33m \u001b[0mListOfNodes\u001b[0m\u001b[1;33m\u001b[0m\u001b[0m\n\u001b[0m",
      "\u001b[1;31mNameError\u001b[0m: name 'ListOfNodes' is not defined"
     ]
    }
   ],
   "source": [
    "ListOfNodes"
   ]
  },
  {
   "cell_type": "code",
   "execution_count": null,
   "metadata": {},
   "outputs": [],
   "source": []
  }
 ],
 "metadata": {
  "kernelspec": {
   "display_name": "Python 3",
   "language": "python",
   "name": "python3"
  },
  "language_info": {
   "codemirror_mode": {
    "name": "ipython",
    "version": 3
   },
   "file_extension": ".py",
   "mimetype": "text/x-python",
   "name": "python",
   "nbconvert_exporter": "python",
   "pygments_lexer": "ipython3",
   "version": "3.6.5"
  }
 },
 "nbformat": 4,
 "nbformat_minor": 2
}
